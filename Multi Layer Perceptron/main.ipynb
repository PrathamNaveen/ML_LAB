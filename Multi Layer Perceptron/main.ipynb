{
 "cells": [
  {
   "cell_type": "markdown",
   "id": "0b304419-e698-44fd-b7cf-38a94b10303f",
   "metadata": {},
   "source": [
    "# Write a program to develop Multi-layer perceptron to implement ANDNOT, XXOR Boolean functions."
   ]
  },
  {
   "cell_type": "code",
   "execution_count": 1,
   "id": "926a61f2-0a22-45d4-be34-0af86011e047",
   "metadata": {},
   "outputs": [],
   "source": [
    "import numpy as np"
   ]
  },
  {
   "cell_type": "code",
   "execution_count": 4,
   "id": "90bd2d57-bcd5-48fe-9f42-4940fb3ca49f",
   "metadata": {},
   "outputs": [],
   "source": [
    "def sigmoid(x):\n",
    "    return 1 / (1 + np.exp(-x))"
   ]
  },
  {
   "cell_type": "code",
   "execution_count": 5,
   "id": "13ed3589-ade2-418a-b4a2-7b90eb6944e8",
   "metadata": {},
   "outputs": [],
   "source": [
    "def sigmoid_derivative(x):\n",
    "    return x * (1 - x)"
   ]
  },
  {
   "cell_type": "code",
   "execution_count": 13,
   "id": "9c40177f-958d-4c4f-9bc8-2d54c5637a94",
   "metadata": {},
   "outputs": [],
   "source": [
    "class MLP:\n",
    "    def __init__(self, input_size, hidden_size, output_size, epochs=1000):\n",
    "        self.epochs = epochs\n",
    "        self.weights_input_hidden = np.random.rand(input_size, hidden_size)\n",
    "        self.weights_hidden_output = np.random.rand(hidden_size, output_size)\n",
    "        self.bias_hidden = np.random.rand(1, hidden_size)\n",
    "        self.bias_output = np.random.rand(1, output_size)\n",
    "\n",
    "    def forward(self, X):\n",
    "        self.hidden = sigmoid(np.dot(X, self.weights_input_hidden) + self.bias_hidden)\n",
    "\n",
    "        self.output = sigmoid(np.dot(self.hidden, self.weights_hidden_output + self.bias_output))\n",
    "\n",
    "        return self.output\n",
    "\n",
    "    def backward(self, X, y, output):\n",
    "        output_error = y - output\n",
    "        output_delta = output_error * sigmoid_derivative(output)\n",
    "\n",
    "        hidden_error = output_delta.dot(self.weights_hidden_output.T)\n",
    "        hidden_delta = hidden_error * sigmoid_derivative(self.hidden)\n",
    "\n",
    "        # Update weights and biases\n",
    "        self.weights_hidden_output += self.hidden.T.dot(output_delta)\n",
    "        self.weights_input_hidden += X.T.dot(hidden_delta)\n",
    "        self.bias_hidden += np.sum(hidden_delta, axis=0, keepdims=True)\n",
    "        self.bias_output += np.sum(output_delta, axis=0, keepdims=True)\n",
    "\n",
    "    def train(self, X, y):\n",
    "        for _ in range(self.epochs):\n",
    "            output = self.forward(X)\n",
    "            self.backward(X, y, output)\n",
    "\n",
    "    def predict(self, X):\n",
    "        return (self.forward(X) > 0.5).astype(int)"
   ]
  },
  {
   "cell_type": "code",
   "execution_count": 15,
   "id": "9b26f30b-eaa7-4c68-aa4f-9cd972716834",
   "metadata": {},
   "outputs": [
    {
     "name": "stdout",
     "output_type": "stream",
     "text": [
      "[[0]\n",
      " [0]\n",
      " [1]\n",
      " [0]]\n"
     ]
    }
   ],
   "source": [
    "model = MLP(input_size=2, hidden_size=4, output_size=1)\n",
    "X_AndNot = np.array([[0, 0], [0, 1], [1, 0], [1, 1]])\n",
    "y_AndNot = np.array([[0], [0], [1], [0]])\n",
    "model.train(X_AndNot, y_AndNot)\n",
    "print(model.predict(X_AndNot))"
   ]
  },
  {
   "cell_type": "code",
   "execution_count": 16,
   "id": "c715c6f9-1ccb-44ee-892f-84ea49c8c8b4",
   "metadata": {},
   "outputs": [
    {
     "name": "stdout",
     "output_type": "stream",
     "text": [
      "[[0]\n",
      " [1]\n",
      " [1]\n",
      " [0]]\n"
     ]
    }
   ],
   "source": [
    "model = MLP(input_size=2, hidden_size=4, output_size=1)\n",
    "X_XOR = np.array([[0, 0], [0, 1], [1, 0], [1, 1]])\n",
    "y_XOR = np.array([[0], [1], [1], [0]])\n",
    "model.train(X_XOR, y_XOR)\n",
    "print(model.predict(X_XOR))"
   ]
  }
 ],
 "metadata": {
  "kernelspec": {
   "display_name": "Python 3 (ipykernel)",
   "language": "python",
   "name": "python3"
  },
  "language_info": {
   "codemirror_mode": {
    "name": "ipython",
    "version": 3
   },
   "file_extension": ".py",
   "mimetype": "text/x-python",
   "name": "python",
   "nbconvert_exporter": "python",
   "pygments_lexer": "ipython3",
   "version": "3.11.1"
  }
 },
 "nbformat": 4,
 "nbformat_minor": 5
}
