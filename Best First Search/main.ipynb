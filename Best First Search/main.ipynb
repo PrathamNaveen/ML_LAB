{
 "cells": [
  {
   "cell_type": "markdown",
   "id": "2bdc32fa-ddaf-4d89-acd4-dcc2d77104e1",
   "metadata": {},
   "source": [
    "# Write a program to implement the Best First Search(BFS) algorithm."
   ]
  },
  {
   "cell_type": "code",
   "execution_count": 11,
   "id": "ac400d71-d15f-4de3-9fa2-a22ed005ca6b",
   "metadata": {},
   "outputs": [],
   "source": [
    "def best_first_search(graph, start, goal, heuristic, path=[]):\n",
    "    # For Unvisited Nodes            \n",
    "    open_list = [(0,start)] # (Cost, Node)\n",
    "    # For Visited Nodes\n",
    "    closed_list = set() \n",
    "    closed_list.add(start)\n",
    "\n",
    "    while open_list:\n",
    "        open_list.sort(key = lambda x: heuristic[x[1]], reverse=True) # Sort by Heuristic Values of each node in reverse\n",
    "        cost, node = open_list.pop()\n",
    "        path.append(node)\n",
    "\n",
    "        if node==goal:\n",
    "            return cost, path\n",
    "\n",
    "        closed_list.add(node)\n",
    "        for neighbour, neighbour_cost in graph[node]:\n",
    "            if neighbour not in open_list:\n",
    "                #closed_list.add(node)\n",
    "                # (cost + neighbour_cost) -> Total cost to reach the current node + to move from current node to its neighbour\n",
    "                open_list.append((cost + neighbour_cost, neighbour))\n",
    "\n",
    "    return None"
   ]
  },
  {
   "cell_type": "code",
   "execution_count": 12,
   "id": "6b33cebc-624b-419c-ac3a-76e4137088c3",
   "metadata": {},
   "outputs": [],
   "source": [
    "graph = {\n",
    "    'A': [('B', 11), ('C', 14), ('D',7)],\n",
    "    'B': [('A', 11), ('E', 15)],\n",
    "    'C': [('A', 14), ('E', 8), ('D',18), ('F',10)],\n",
    "    'D': [('A', 7), ('F', 25), ('C',18)],\n",
    "    'E': [('B', 15), ('C', 8), ('H',9)],\n",
    "    'F': [('G', 20), ('C', 10), ('D',25)],\n",
    "    'G': [],\n",
    "    'H': [('E',9), ('G',10)]\n",
    "}"
   ]
  },
  {
   "cell_type": "code",
   "execution_count": 13,
   "id": "a0429aa3-2ff4-45de-adf4-2e6aa865eaf8",
   "metadata": {},
   "outputs": [],
   "source": [
    "start = 'A'\n",
    "goal = 'G'"
   ]
  },
  {
   "cell_type": "code",
   "execution_count": 14,
   "id": "e9b31ed3-1ba6-4507-81a0-051a12106661",
   "metadata": {},
   "outputs": [],
   "source": [
    "heuristic = {\n",
    "    'A': 40,\n",
    "    'B': 32,\n",
    "    'C': 25,\n",
    "    'D': 35,\n",
    "    'E': 19,\n",
    "    'F': 17,\n",
    "    'G': 0,\n",
    "    'H': 10\n",
    "}"
   ]
  },
  {
   "cell_type": "code",
   "execution_count": 15,
   "id": "45b9d6aa-4d6e-4986-b8ed-78af831bbe08",
   "metadata": {},
   "outputs": [
    {
     "name": "stdout",
     "output_type": "stream",
     "text": [
      "Minimum cost path from A to G is ['A', 'C', 'F', 'G']\n",
      "Cost: 44\n"
     ]
    }
   ],
   "source": [
    "result = best_first_search(graph, start, goal, heuristic)\n",
    "\n",
    "if result:\n",
    "    print(f\"Minimum cost path from {start} to {goal} is {result[1]}\")\n",
    "    print(f\"Cost: {result[0]}\")\n",
    "else:\n",
    "    print(f\"No path from {start} to {goal}\")"
   ]
  },
  {
   "cell_type": "code",
   "execution_count": null,
   "id": "274faa2c-006f-4809-8c62-0956c5f5e590",
   "metadata": {},
   "outputs": [],
   "source": []
  }
 ],
 "metadata": {
  "kernelspec": {
   "display_name": "Python 3 (ipykernel)",
   "language": "python",
   "name": "python3"
  },
  "language_info": {
   "codemirror_mode": {
    "name": "ipython",
    "version": 3
   },
   "file_extension": ".py",
   "mimetype": "text/x-python",
   "name": "python",
   "nbconvert_exporter": "python",
   "pygments_lexer": "ipython3",
   "version": "3.11.1"
  }
 },
 "nbformat": 4,
 "nbformat_minor": 5
}
