{
 "cells": [
  {
   "cell_type": "markdown",
   "id": "f8c90220-94ed-4117-90ef-1bfbe3834182",
   "metadata": {},
   "source": [
    "# Write a program to implement Min-Max algorithm"
   ]
  },
  {
   "cell_type": "markdown",
   "id": "627f7777-8355-4985-bc27-7ef10a6c82be",
   "metadata": {},
   "source": [
    "### Defines a Tree Node"
   ]
  },
  {
   "cell_type": "code",
   "execution_count": 1,
   "id": "c2c487b4-0723-4351-87b7-02cec54c13c8",
   "metadata": {},
   "outputs": [],
   "source": [
    "class TreeNode:\n",
    "    def __init__(self, value, children=None):\n",
    "        self.value = value\n",
    "        self.children = children if children else []\n",
    "\n",
    "    def auto_increment_indices(self, start_index=0):\n",
    "        self.index = start_index\n",
    "        for child in self.children:\n",
    "            start_index += 1\n",
    "            start_index = child.auto_increment_indices(start_index)\n",
    "        return start_index"
   ]
  },
  {
   "cell_type": "code",
   "execution_count": 2,
   "id": "15aefb07-c3fc-404d-b296-4d3342480077",
   "metadata": {},
   "outputs": [],
   "source": [
    "def minimax(node, depth, maximizing_player):\n",
    "    # Base Case\n",
    "    if depth == 0 or not node.children:\n",
    "        return [node.index], node.value\n",
    "\n",
    "    if maximizing_player:\n",
    "        max_value = float(\"-inf\")\n",
    "        max_path = []\n",
    "        for child_node in node.children:\n",
    "            child_path, child_value = minimax(child_node, depth - 1, False)  # Recursively call the children\n",
    "            if child_value > max_value:\n",
    "                max_value = child_value\n",
    "                max_path = [node.index] + child_path\n",
    "        return max_path, max_value\n",
    "    else:\n",
    "        min_value = float(\"inf\")\n",
    "        min_path = []\n",
    "        for child_node in node.children:\n",
    "            child_path, child_value = minimax(child_node, depth - 1, True)\n",
    "            if child_value < min_value:\n",
    "                min_value = child_value\n",
    "                min_path = [node.index] + child_path\n",
    "        return min_path, min_value"
   ]
  },
  {
   "cell_type": "code",
   "execution_count": 3,
   "id": "302ab7a1-2641-4dd7-9362-f4442b63892d",
   "metadata": {},
   "outputs": [
    {
     "data": {
      "text/plain": [
       "6"
      ]
     },
     "execution_count": 3,
     "metadata": {},
     "output_type": "execute_result"
    }
   ],
   "source": [
    "game_tree = TreeNode(0, [\n",
    "    TreeNode(0, [TreeNode(2),TreeNode(12)]),\n",
    "    TreeNode(0, [TreeNode(3),TreeNode(8)])\n",
    "])\n",
    "\n",
    "game_tree.auto_increment_indices()"
   ]
  },
  {
   "cell_type": "code",
   "execution_count": 4,
   "id": "46236245-0cae-4f49-ab12-fb1ce86edf89",
   "metadata": {},
   "outputs": [
    {
     "name": "stdout",
     "output_type": "stream",
     "text": [
      "Optimal value: 3\n",
      "Optimal path: [0, 4, 5]\n"
     ]
    }
   ],
   "source": [
    "optimal_path, optimal_value = minimax(game_tree, 2, True)\n",
    "\n",
    "print(\"Optimal value:\", optimal_value)\n",
    "print(\"Optimal path:\", optimal_path)"
   ]
  }
 ],
 "metadata": {
  "kernelspec": {
   "display_name": "Python 3 (ipykernel)",
   "language": "python",
   "name": "python3"
  },
  "language_info": {
   "codemirror_mode": {
    "name": "ipython",
    "version": 3
   },
   "file_extension": ".py",
   "mimetype": "text/x-python",
   "name": "python",
   "nbconvert_exporter": "python",
   "pygments_lexer": "ipython3",
   "version": "3.11.1"
  }
 },
 "nbformat": 4,
 "nbformat_minor": 5
}
