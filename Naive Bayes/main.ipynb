{
 "cells": [
  {
   "cell_type": "markdown",
   "id": "fb1481fe-e1c3-4172-a689-f4a331762d08",
   "metadata": {},
   "source": [
    "## Write a program to develop the Naive Bayes classifier for the k values as\n",
    "## 3,5,7 based on split up of training and testing dataset as 90-10, 70-30 and\n",
    "## leave-one-out on,\n",
    "### a) Iris dataset\n",
    "### b) Titanic dataset"
   ]
  },
  {
   "cell_type": "code",
   "execution_count": 20,
   "id": "dc1764f0-d578-4131-9bfe-d6e22949be4a",
   "metadata": {},
   "outputs": [],
   "source": [
    "import numpy as np\n",
    "import pandas as pd\n",
    "from sklearn.naive_bayes import GaussianNB as NaiveBayes\n",
    "from sklearn.model_selection import train_test_split\n",
    "from sklearn.metrics import accuracy_score\n",
    "import warnings\n",
    "warnings.filterwarnings(\"ignore\")"
   ]
  },
  {
   "cell_type": "code",
   "execution_count": 21,
   "id": "3bec82f2-2e41-4238-9f49-438c5cf323c1",
   "metadata": {},
   "outputs": [],
   "source": [
    "iris_dataset = pd.read_csv('iris.csv')\n",
    "# iris_dataset"
   ]
  },
  {
   "cell_type": "code",
   "execution_count": 22,
   "id": "6b3f464b-36f3-4fb8-ac06-908b8d4e603a",
   "metadata": {},
   "outputs": [],
   "source": [
    "titanic_dataset = pd.read_csv('titanic.csv')\n",
    "# titanic_dataset"
   ]
  },
  {
   "cell_type": "code",
   "execution_count": 23,
   "id": "5124d9dd-956d-4974-a90c-6522a1ba2fef",
   "metadata": {},
   "outputs": [],
   "source": [
    "Xi = iris_dataset.drop('Species', axis = 1).values\n",
    "yi = iris_dataset['Species'].values"
   ]
  },
  {
   "cell_type": "code",
   "execution_count": 24,
   "id": "353f0219-60c5-4bf3-9ddf-57ba9ee3fbab",
   "metadata": {},
   "outputs": [],
   "source": [
    "titanic_dataset.drop(columns=['PassengerId', 'Name', 'Ticket', 'Cabin'], inplace=True)\n",
    "titanic_dataset['Age'].fillna(titanic_dataset['Age'].median(), inplace=True)\n",
    "titanic_dataset['Embarked'].fillna(titanic_dataset['Embarked'].mode()[0], inplace=True)\n",
    "titanic_dataset = pd.get_dummies(titanic_dataset, columns=['Sex', 'Embarked'])"
   ]
  },
  {
   "cell_type": "code",
   "execution_count": 26,
   "id": "e8812179-d63e-4e89-a97e-8ffc77c2c7d0",
   "metadata": {},
   "outputs": [],
   "source": [
    "Xt = titanic_dataset.drop('Survived', axis=1).values\n",
    "yt = titanic_dataset['Survived'].values"
   ]
  },
  {
   "cell_type": "code",
   "execution_count": 27,
   "id": "01f5b800-94db-4161-99b8-8445561a19f4",
   "metadata": {},
   "outputs": [],
   "source": [
    "datasets = ['iris_dataset', 'titanic_dataset']\n",
    "test_splits = [0.1, 0.3]\n",
    "k_values = [3, 5, 7, 9]"
   ]
  },
  {
   "cell_type": "code",
   "execution_count": 28,
   "id": "1c3c1004-832a-47c4-8996-3d802fd0b186",
   "metadata": {},
   "outputs": [
    {
     "name": "stdout",
     "output_type": "stream",
     "text": [
      "Dataset: iris_dataset\n",
      "----------------------\n",
      "K-Value: 3\n",
      "Train-Test Split = 90.0-10.0\n",
      "Accuracy:  1.00\n",
      "------------\n",
      "K-Value: 3\n",
      "Train-Test Split = 70.0-30.0\n",
      "Accuracy:  1.00\n",
      "------------\n",
      "----------------------------\n",
      "K-Value: 5\n",
      "Train-Test Split = 90.0-10.0\n",
      "Accuracy:  1.00\n",
      "------------\n",
      "K-Value: 5\n",
      "Train-Test Split = 70.0-30.0\n",
      "Accuracy:  1.00\n",
      "------------\n",
      "----------------------------\n",
      "K-Value: 7\n",
      "Train-Test Split = 90.0-10.0\n",
      "Accuracy:  1.00\n",
      "------------\n",
      "K-Value: 7\n",
      "Train-Test Split = 70.0-30.0\n",
      "Accuracy:  1.00\n",
      "------------\n",
      "----------------------------\n",
      "K-Value: 9\n",
      "Train-Test Split = 90.0-10.0\n",
      "Accuracy:  1.00\n",
      "------------\n",
      "K-Value: 9\n",
      "Train-Test Split = 70.0-30.0\n",
      "Accuracy:  1.00\n",
      "------------\n",
      "----------------------------\n",
      "------------------------------------------------\n",
      "Dataset: titanic_dataset\n",
      "----------------------\n",
      "K-Value: 3\n",
      "Train-Test Split = 90.0-10.0\n",
      "Accuracy:  0.82\n",
      "------------\n",
      "K-Value: 3\n",
      "Train-Test Split = 70.0-30.0\n",
      "Accuracy:  0.82\n",
      "------------\n",
      "----------------------------\n",
      "K-Value: 5\n",
      "Train-Test Split = 90.0-10.0\n",
      "Accuracy:  0.82\n",
      "------------\n",
      "K-Value: 5\n",
      "Train-Test Split = 70.0-30.0\n",
      "Accuracy:  0.82\n",
      "------------\n",
      "----------------------------\n",
      "K-Value: 7\n",
      "Train-Test Split = 90.0-10.0\n",
      "Accuracy:  0.82\n",
      "------------\n",
      "K-Value: 7\n",
      "Train-Test Split = 70.0-30.0\n",
      "Accuracy:  0.82\n",
      "------------\n",
      "----------------------------\n",
      "K-Value: 9\n",
      "Train-Test Split = 90.0-10.0\n",
      "Accuracy:  0.82\n",
      "------------\n",
      "K-Value: 9\n",
      "Train-Test Split = 70.0-30.0\n",
      "Accuracy:  0.82\n",
      "------------\n",
      "----------------------------\n",
      "------------------------------------------------\n"
     ]
    }
   ],
   "source": [
    "for dataset in datasets:\n",
    "    print(f'Dataset: {dataset}')\n",
    "    print('----------------------')\n",
    "    for k in k_values:\n",
    "        for test_split in test_splits:\n",
    "            print(f'K-Value: {k}')\n",
    "            print(f\"Train-Test Split = {100 - test_split * 100}-{test_split * 100}\")\n",
    "                \n",
    "            model = NaiveBayes()\n",
    "                \n",
    "            if dataset == 'iris_dataset':\n",
    "                X_train, X_test, y_train, y_test = train_test_split(Xi, yi, test_size=test_split, random_state=50)\n",
    "            else:\n",
    "                X_train, X_test, y_train, y_test = train_test_split(Xt, yt, test_size=test_split, random_state=50)\n",
    "                    \n",
    "            model.fit(X_train, y_train)\n",
    "            y_pred = model.predict(X_test)\n",
    "            accuracy = accuracy_score(y_test, y_pred)\n",
    "            print(f'Accuracy: {accuracy: .2f}')\n",
    "            print(\"------------\")\n",
    "        print(\"----------------------------\")\n",
    "    print(\"------------------------------------------------\")"
   ]
  }
 ],
 "metadata": {
  "kernelspec": {
   "display_name": "Python 3 (ipykernel)",
   "language": "python",
   "name": "python3"
  },
  "language_info": {
   "codemirror_mode": {
    "name": "ipython",
    "version": 3
   },
   "file_extension": ".py",
   "mimetype": "text/x-python",
   "name": "python",
   "nbconvert_exporter": "python",
   "pygments_lexer": "ipython3",
   "version": "3.11.1"
  }
 },
 "nbformat": 4,
 "nbformat_minor": 5
}
