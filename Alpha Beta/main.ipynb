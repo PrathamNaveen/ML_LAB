{
 "cells": [
  {
   "cell_type": "markdown",
   "id": "25c6cde7-023d-4262-ad87-10b862e94a14",
   "metadata": {},
   "source": [
    "# Write a program to implement Alpha-beta pruning algorithm."
   ]
  },
  {
   "cell_type": "markdown",
   "id": "88e13445-4958-4551-8b50-a7963bb740f2",
   "metadata": {},
   "source": [
    "### Defines a Tree Node"
   ]
  },
  {
   "cell_type": "code",
   "execution_count": 1,
   "id": "7efa2554-ab47-4503-acc9-b2cd6a49c12a",
   "metadata": {},
   "outputs": [],
   "source": [
    "class TreeNode:\n",
    "    def __init__(self, index, value, children=[]):\n",
    "        self.index = index\n",
    "        self.value = value\n",
    "        self.children = children\n",
    "        self.alpha = float('-inf')\n",
    "        self.beta = float('inf')"
   ]
  },
  {
   "cell_type": "code",
   "execution_count": 2,
   "id": "88ea78bb-a3b9-47a5-9237-15afe80ff2d8",
   "metadata": {},
   "outputs": [],
   "source": [
    "def alphabeta(node, depth, alpha, beta, maximizing_player):\n",
    "    global pruned_count\n",
    "\n",
    "    # Base Case\n",
    "    if depth == 0 or not node.children:\n",
    "        return [node.index], node.value\n",
    "\n",
    "\n",
    "    if maximizing_player:\n",
    "        max_value = float(\"-inf\")\n",
    "        max_path = []\n",
    "        for child_node in node.children:\n",
    "            child_path, child_value = alphabeta(child_node, depth - 1, alpha, beta, False) # Recursively call the children\n",
    "            if child_value > max_value:\n",
    "                max_value = child_value\n",
    "                max_path = [node.index] + child_path\n",
    "\n",
    "            # Try to maximize Alpha of each Node\n",
    "            alpha = max(alpha, max_value)\n",
    "            # Prune Condition\n",
    "            if alpha >= beta:\n",
    "                pruned_count += len(child_node.children) + 1 # This'll count all the nodes which are attached to the pruned branch\n",
    "                break\n",
    "\n",
    "        return max_path, max_value\n",
    "\n",
    "    else:\n",
    "        min_value = float(\"inf\")\n",
    "        min_path = []\n",
    "        for child_node in node.children:\n",
    "            child_path, child_value = alphabeta(child_node, depth - 1, alpha, beta, True)\n",
    "            if child_value < min_value:\n",
    "                min_value = child_value\n",
    "                min_path = [node.index] + child_path\n",
    "\n",
    "            # Try to minimize Beta of each Node\n",
    "            beta = min(beta, min_value)\n",
    "            if alpha >= beta:\n",
    "                # Prune Condition\n",
    "                pruned_count += len(child_node.children) + 1\n",
    "                break\n",
    "\n",
    "        return min_path, min_value"
   ]
  },
  {
   "cell_type": "code",
   "execution_count": 3,
   "id": "f191f216-b8d1-4068-af12-597c5fa99c4f",
   "metadata": {},
   "outputs": [],
   "source": [
    "game_tree = TreeNode(0, 0, [\n",
    "    TreeNode(1, 0, [\n",
    "        TreeNode(3, 0,[\n",
    "            TreeNode(7, 3), TreeNode(8, 5)\n",
    "            ]),\n",
    "        TreeNode(4, 0,[\n",
    "            TreeNode(9, 6), TreeNode(10, 9)\n",
    "            ])\n",
    "        ]),\n",
    "    TreeNode(2, 0, [\n",
    "        TreeNode(5, 0,[\n",
    "            TreeNode(11, 1), TreeNode(12, 2)\n",
    "            ]),\n",
    "        TreeNode(6, 0,[\n",
    "            TreeNode(13, 0), TreeNode(14, -1)\n",
    "            ])\n",
    "        ])\n",
    "])"
   ]
  },
  {
   "cell_type": "code",
   "execution_count": 4,
   "id": "bdb40c8a-6052-4a86-9d80-b9e9661c153b",
   "metadata": {},
   "outputs": [
    {
     "name": "stdout",
     "output_type": "stream",
     "text": [
      "Optimal value: 5\n",
      "Optimal path:  [0, 1, 3, 8]\n",
      "Total pruned nodes: 4\n"
     ]
    }
   ],
   "source": [
    "pruned_count = 0\n",
    "optimal_path, optimal_value = alphabeta(game_tree, 3, float('-inf'), float('inf'), True)\n",
    "\n",
    "print(\"Optimal value:\", optimal_value)\n",
    "print(\"Optimal path: \", optimal_path)\n",
    "print(\"Total pruned nodes:\", pruned_count)"
   ]
  }
 ],
 "metadata": {
  "kernelspec": {
   "display_name": "Python 3 (ipykernel)",
   "language": "python",
   "name": "python3"
  },
  "language_info": {
   "codemirror_mode": {
    "name": "ipython",
    "version": 3
   },
   "file_extension": ".py",
   "mimetype": "text/x-python",
   "name": "python",
   "nbconvert_exporter": "python",
   "pygments_lexer": "ipython3",
   "version": "3.11.1"
  }
 },
 "nbformat": 4,
 "nbformat_minor": 5
}
