{
 "cells": [
  {
   "cell_type": "markdown",
   "id": "721fe848-4684-43c8-b1ec-7ae3f88c97f3",
   "metadata": {},
   "source": [
    "# Write a program to implement the A* algorithm."
   ]
  },
  {
   "cell_type": "markdown",
   "id": "75b25c76-a1cf-45f0-ad0f-2283fbbe8e3d",
   "metadata": {},
   "source": [
    "### Returns the Heuristic for a given node"
   ]
  },
  {
   "cell_type": "code",
   "execution_count": 1,
   "id": "5f36fc6b-7a6a-4c75-9656-06946398ef59",
   "metadata": {},
   "outputs": [],
   "source": [
    "def h(n):\n",
    "    H={'A':3, 'B':4, 'C':2, 'D':6, 'G':0, 'S':5}\n",
    "    return H[n]"
   ]
  },
  {
   "cell_type": "code",
   "execution_count": 2,
   "id": "3bd7f72a-57d5-4327-80bd-fde1ab46ee3c",
   "metadata": {},
   "outputs": [],
   "source": [
    "def a_star_algorithm(graph,start,goal):\n",
    "    open_list = [start]\n",
    "    closed_list = set()\n",
    "    g = {start:0}\n",
    "    parents = {start:start}\n",
    "    while open_list:\n",
    "        open_list.sort(key=lambda x:g[x] + h(x), reverse=True) # f(x) = g(x) + h(x)\n",
    "        n = open_list.pop()\n",
    "\n",
    "        # If node is goal then, traverse back up the tree and construct the path\n",
    "        if n == goal:\n",
    "            reconst_path = []\n",
    "\n",
    "            # Stop when the parent of the node is itself (i.e, Root)\n",
    "            while parents[n] != n:\n",
    "                reconst_path.append(n)\n",
    "                n = parents[n]\n",
    "\n",
    "            reconst_path.append(start)\n",
    "            # Reverse it cause it's from goal to root\n",
    "            reconst_path.reverse()\n",
    "\n",
    "            print(f'Path found: {reconst_path}')\n",
    "            return reconst_path\n",
    "\n",
    "        for (m, weight) in graph[n]:\n",
    "            # m -> Current Node, n -> Parent Node\n",
    "            # If m ain't visited at all, note down it's parents and the cost to reach 'm'\n",
    "            if m not in open_list and m not in closed_list:\n",
    "                open_list.append(m)\n",
    "                parents[m] = n\n",
    "                g[m] = g[n] + weight\n",
    "\n",
    "            # Else check if m can be reached by a shorter(lesser cost) path\n",
    "            else:\n",
    "                # Total cost to get to parent n + cost to move to m\n",
    "                if g[n] + weight < g[m]:\n",
    "                    g[m] = g[n] + weight\n",
    "                    parents[m] = n\n",
    "\n",
    "                    # Mark m as unvisited and put it back in the open list, reconsidering it for getting the best possible path\n",
    "                    if m in closed_list:\n",
    "                        closed_list.remove(m)\n",
    "                        open_list.append(m)\n",
    "\n",
    "        # Node's neighbours are visited. Now put node to closed list.\n",
    "        closed_list.add(n)\n",
    "\n",
    "    print('Path does not exist!')\n",
    "    return None"
   ]
  },
  {
   "cell_type": "code",
   "execution_count": 3,
   "id": "ba87e1d7-50d2-4e7d-b157-9780239f50c9",
   "metadata": {},
   "outputs": [],
   "source": [
    "graph = {\n",
    "    'S': [('A', 1), ('G', 10)],\n",
    "    'A': [('B', 2), ('C', 1)],\n",
    "    'B': [('D', 5)],\n",
    "    'C': [('D', 3),('G', 4)],\n",
    "    'D': [('G', 2)]\n",
    "}"
   ]
  },
  {
   "cell_type": "code",
   "execution_count": 4,
   "id": "94138a4f-15da-4098-a7a9-08a72d27530f",
   "metadata": {},
   "outputs": [
    {
     "name": "stdout",
     "output_type": "stream",
     "text": [
      "Path found: ['S', 'A', 'C', 'G']\n"
     ]
    },
    {
     "data": {
      "text/plain": [
       "['S', 'A', 'C', 'G']"
      ]
     },
     "execution_count": 4,
     "metadata": {},
     "output_type": "execute_result"
    }
   ],
   "source": [
    "a_star_algorithm(graph, 'S', 'G')"
   ]
  }
 ],
 "metadata": {
  "kernelspec": {
   "display_name": "Python 3 (ipykernel)",
   "language": "python",
   "name": "python3"
  },
  "language_info": {
   "codemirror_mode": {
    "name": "ipython",
    "version": 3
   },
   "file_extension": ".py",
   "mimetype": "text/x-python",
   "name": "python",
   "nbconvert_exporter": "python",
   "pygments_lexer": "ipython3",
   "version": "3.11.1"
  }
 },
 "nbformat": 4,
 "nbformat_minor": 5
}
