{
 "cells": [
  {
   "cell_type": "markdown",
   "id": "60faa2dc-4750-4376-9568-fb7659b7f20b",
   "metadata": {},
   "source": [
    "# Write a Program to develop simple single layer perceptron to implement\n",
    "# AND, OR Boolean functions."
   ]
  },
  {
   "cell_type": "code",
   "execution_count": 1,
   "id": "19bb7a0d-8582-4267-a148-df1475edf87f",
   "metadata": {},
   "outputs": [],
   "source": [
    "import numpy as np"
   ]
  },
  {
   "cell_type": "code",
   "execution_count": 23,
   "id": "6ab02d7a-ec17-422f-bd96-7e4b1abed524",
   "metadata": {},
   "outputs": [],
   "source": [
    "def step_function(output):\n",
    "    return np.where(output > 0, 1, 0)"
   ]
  },
  {
   "cell_type": "code",
   "execution_count": 26,
   "id": "5b719dfc-df9f-40c4-aa2e-448fa586db3e",
   "metadata": {},
   "outputs": [],
   "source": [
    "class SLP:\n",
    "    def __init__(self, input_size, learning_rate=0.1, epochs=1000):\n",
    "        self.weights = np.zeros((input_size, 1))\n",
    "        self.bias = 0\n",
    "        self.learning_rate = learning_rate\n",
    "        self.epochs = epochs\n",
    "\n",
    "    def train(self, X, y):\n",
    "        for _ in range(self.epochs):\n",
    "            for input, label in zip(X, y):\n",
    "                input = input.reshape(-1, 1)\n",
    "                output = np.dot(input.T, self.weights) + self.bias\n",
    "                prediction = step_function(output)\n",
    "                error = label - prediction\n",
    "\n",
    "                # Fine-Tune the weights and bias\n",
    "                self.weights += self.learning_rate * error * input\n",
    "                self.bias += self.learning_rate * error\n",
    "\n",
    "    def predict(self, X):\n",
    "        output = np.dot(X, self.weights) + self.bias\n",
    "        return step_function(output)"
   ]
  },
  {
   "cell_type": "code",
   "execution_count": 27,
   "id": "af6a48c3-a482-4680-9e47-60d374fcf141",
   "metadata": {},
   "outputs": [
    {
     "name": "stdout",
     "output_type": "stream",
     "text": [
      "[[0]\n",
      " [0]\n",
      " [0]\n",
      " [1]]\n"
     ]
    }
   ],
   "source": [
    "model = SLP(input_size=2)\n",
    "\n",
    "X_AND = np.array([[0, 0], [0, 1], [1, 0], [1, 1]])\n",
    "y_AND = np.array([[0], [0], [0], [1]])\n",
    "\n",
    "model.train(X_AND, y_AND)\n",
    "print(model.predict(X_AND))"
   ]
  },
  {
   "cell_type": "code",
   "execution_count": 28,
   "id": "3de4e5d2-1c83-482d-af3e-f759219fc462",
   "metadata": {},
   "outputs": [
    {
     "name": "stdout",
     "output_type": "stream",
     "text": [
      "[[0]\n",
      " [1]\n",
      " [1]\n",
      " [1]]\n"
     ]
    }
   ],
   "source": [
    "model = SLP(input_size=2)\n",
    "\n",
    "X_OR = np.array([[0, 0], [0, 1], [1, 0], [1, 1]])\n",
    "y_OR = np.array([[0], [1], [1], [1]])\n",
    "\n",
    "model.train(X_OR, y_OR)\n",
    "print(model.predict(X_OR))"
   ]
  }
 ],
 "metadata": {
  "kernelspec": {
   "display_name": "Python 3 (ipykernel)",
   "language": "python",
   "name": "python3"
  },
  "language_info": {
   "codemirror_mode": {
    "name": "ipython",
    "version": 3
   },
   "file_extension": ".py",
   "mimetype": "text/x-python",
   "name": "python",
   "nbconvert_exporter": "python",
   "pygments_lexer": "ipython3",
   "version": "3.11.1"
  }
 },
 "nbformat": 4,
 "nbformat_minor": 5
}
